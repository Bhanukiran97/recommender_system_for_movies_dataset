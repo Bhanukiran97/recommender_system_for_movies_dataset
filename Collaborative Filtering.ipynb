{
 "cells": [
  {
   "cell_type": "code",
   "execution_count": 1,
   "id": "44fb6e7a",
   "metadata": {},
   "outputs": [],
   "source": [
    "import pandas as pd\n",
    "import numpy as np\n",
    "\n",
    "from scipy.sparse import csr_matrix\n",
    "from scipy.sparse.linalg import svds"
   ]
  },
  {
   "cell_type": "code",
   "execution_count": 2,
   "id": "412e6d71",
   "metadata": {},
   "outputs": [],
   "source": [
    "def normalize(pred_ratings):\n",
    "    '''\n",
    "    This function will normalize the input pred_ratings\n",
    "    \n",
    "    params:\n",
    "        pred_ratings (List -> List) : The prediction ratings \n",
    "    '''\n",
    "    return (pred_ratings - pred_ratings.min()) / (pred_ratings.max() - pred_ratings.min())"
   ]
  },
  {
   "cell_type": "code",
   "execution_count": 3,
   "id": "3781b124",
   "metadata": {},
   "outputs": [],
   "source": [
    "def generate_prediction_df(mat, pt_df, n_factors):\n",
    "    '''\n",
    "    This function will calculate the single value decomposition of the input matrix\n",
    "    given n_factors. It will then generate and normalize the user rating predictions.\n",
    "    \n",
    "    params:\n",
    "        mat (CSR Matrix) : scipy csr matrix corresponding to the pivot table (pt_df)\n",
    "        pt_df (DataFrame) : pandas dataframe which is a pivot table\n",
    "        n_factors (Integer) : Number of singular values and vectors to compute. \n",
    "                              Must be 1 <= n_factors < min(mat.shape). \n",
    "    '''\n",
    "    \n",
    "    if not 1 <= n_factors < min(mat.shape):\n",
    "        raise ValueError(\"Must be 1 <= n_factors < min(mat.shape)\")\n",
    "        \n",
    "    # matrix factorization\n",
    "    u, s, v = svds(mat, k = n_factors)\n",
    "    s = np.diag(s)\n",
    "\n",
    "    # calculate pred ratings\n",
    "    pred_ratings = np.dot(np.dot(u, s), v) \n",
    "    pred_ratings = normalize(pred_ratings)\n",
    "    \n",
    "    # convert to df\n",
    "    pred_df = pd.DataFrame(\n",
    "        pred_ratings,\n",
    "        columns = pt_df.columns,\n",
    "        index = list(pt_df.index)\n",
    "    ).transpose()\n",
    "    return pred_df"
   ]
  },
  {
   "cell_type": "code",
   "execution_count": 4,
   "id": "89e1e427",
   "metadata": {},
   "outputs": [],
   "source": [
    "def recommend_items(pred_df, usr_id, n_recs):\n",
    "    '''\n",
    "    Given a usr_id and pred_df this function will recommend\n",
    "    items to the user.\n",
    "    \n",
    "    params:\n",
    "        pred_df (DataFrame) : generated from `generate_prediction_df` function\n",
    "        usr_id (Integer) : The user you wish to get item recommendations for\n",
    "        n_recs (Integer) : The number of recommendations you want for this user\n",
    "    '''\n",
    "    \n",
    "    usr_pred = pred_df[usr_id].sort_values(ascending = False).reset_index().rename(columns = {usr_id : 'sim'})\n",
    "    rec_df = usr_pred.sort_values(by = 'sim', ascending = False).head(n_recs)\n",
    "    return rec_df"
   ]
  },
  {
   "cell_type": "code",
   "execution_count": 6,
   "id": "f801fb34",
   "metadata": {},
   "outputs": [
    {
     "name": "stdout",
     "output_type": "stream",
     "text": [
      "(100000, 10)\n",
      "   book_id       sim\n",
      "0     1108  0.143244\n",
      "1     1839  0.140945\n",
      "2      725  0.140516\n",
      "3     1897  0.140497\n",
      "4     1341  0.140086\n"
     ]
    }
   ],
   "source": [
    "if __name__ == '__main__':\n",
    "    # constants\n",
    "    PATH = '../data/data.csv'\n",
    "\n",
    "    # import data\n",
    "    df = pd.read_csv('rdata.csv')\n",
    "    print(df.shape)\n",
    "\n",
    "    # generate a pivot table with readers on the index and books on the column and values being the ratings\n",
    "    pt_df = df.pivot_table(\n",
    "        columns = 'book_id',\n",
    "        index = 'reader_id',\n",
    "        values = 'book_rating'\n",
    "    ).fillna(0)\n",
    "\n",
    "    # convert to a csr matrix\n",
    "    mat = pt_df.values\n",
    "    mat = csr_matrix(mat)\n",
    "    \n",
    "    pred_df = generate_prediction_df(mat, pt_df, 10)\n",
    "\n",
    "    # generate recommendations\n",
    "    print(recommend_items(pred_df, 5, 5))"
   ]
  },
  {
   "cell_type": "code",
   "execution_count": null,
   "id": "809ae3d6",
   "metadata": {},
   "outputs": [],
   "source": []
  }
 ],
 "metadata": {
  "kernelspec": {
   "display_name": "Python 3 (ipykernel)",
   "language": "python",
   "name": "python3"
  },
  "language_info": {
   "codemirror_mode": {
    "name": "ipython",
    "version": 3
   },
   "file_extension": ".py",
   "mimetype": "text/x-python",
   "name": "python",
   "nbconvert_exporter": "python",
   "pygments_lexer": "ipython3",
   "version": "3.9.12"
  }
 },
 "nbformat": 4,
 "nbformat_minor": 5
}
